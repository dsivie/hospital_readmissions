{
 "cells": [
  {
   "cell_type": "markdown",
   "metadata": {},
   "source": [
    "__David Sivieri__  \n",
    "__CSC8200 Health Informatics & EHealth Systems__  \n",
    "__Final Project__  \n",
    "__Feb 24, 2020__\n",
    "\n",
    "## Data Modeling\n",
    "\n",
    "In this notebook, I will attempt to create models that predict readmissions.  I will use two different types of classifiers: DecisionTreeClassifier and RandomForestClassifier.  \n",
    "\n",
    "I will also try two different strategies for dealing with the imbalanced classes.  First I will try creating synthetic data for the minority class, then I will attempt to undersample the majority class.  Both will be compared to a stratified dummy classifier (guessing).  Precision, recall, and accuracy will all be generated."
   ]
  },
  {
   "cell_type": "code",
   "execution_count": 32,
   "metadata": {},
   "outputs": [
    {
     "data": {
      "text/html": [
       "<style>.container { width:90% !important; }</style>"
      ],
      "text/plain": [
       "<IPython.core.display.HTML object>"
      ]
     },
     "metadata": {},
     "output_type": "display_data"
    }
   ],
   "source": [
    "import math\n",
    "import sys\n",
    "import numpy as np\n",
    "import pandas as pd\n",
    "\n",
    "\n",
    "import matplotlib.pyplot as plt\n",
    "import seaborn as sns\n",
    "\n",
    "from pprint import pprint\n",
    "from sklearn.preprocessing import StandardScaler\n",
    "from sklearn.model_selection import train_test_split, cross_val_score\n",
    "from sklearn.metrics import explained_variance_score, mean_squared_error, r2_score, mean_absolute_error\n",
    "from sklearn.model_selection import RepeatedKFold\n",
    "from scipy import stats\n",
    "\n",
    "from imblearn.over_sampling import SMOTE\n",
    "from imblearn.under_sampling import RandomUnderSampler\n",
    "\n",
    "from collections import Counter\n",
    "from sklearn.metrics import accuracy_score, precision_score, recall_score\n",
    "\n",
    "from sklearn.ensemble import RandomForestClassifier\n",
    "from sklearn.tree import DecisionTreeClassifier\n",
    "\n",
    "from sklearn.metrics import classification_report\n",
    "from sklearn.dummy import DummyClassifier\n",
    "\n",
    "\n",
    "import warnings\n",
    "\n",
    "warnings.simplefilter(action=\"ignore\", category=FutureWarning)\n",
    "\n",
    "pd.set_option(\"display.max_rows\", 1000000)\n",
    "pd.set_option(\"display.max_columns\", 1000000)\n",
    "pd.set_option(\"display.width\", 1000000)\n",
    "pd.set_option(\"display.max_colwidth\", 1000000)\n",
    "pd.set_option(\"display.max_info_columns\", 1000)\n",
    "np.set_printoptions(threshold=sys.maxsize)\n",
    "\n",
    "from IPython.core.display import display, HTML\n",
    "\n",
    "display(HTML(\"<style>.container { width:90% !important; }</style>\"))"
   ]
  },
  {
   "cell_type": "code",
   "execution_count": 33,
   "metadata": {},
   "outputs": [
    {
     "data": {
      "text/html": [
       "<style type=\"text/css\">\n",
       "    table.dataframe td, table.dataframe th {\n",
       "        border-style: solid;\n",
       "        border: 1px solid lightgray;\n",
       "    }\n",
       "    tr:nth-child(even) {\n",
       "        background: #eee;\n",
       "    }\n",
       "    th {\n",
       "       background-color: lemonchiffon;\n",
       "       color: black;\n",
       "}\n",
       "</style>\n"
      ],
      "text/plain": [
       "<IPython.core.display.HTML object>"
      ]
     },
     "metadata": {},
     "output_type": "display_data"
    }
   ],
   "source": [
    "%%HTML\n",
    "<style type=\"text/css\">\n",
    "    table.dataframe td, table.dataframe th {\n",
    "        border-style: solid;\n",
    "        border: 1px solid lightgray;\n",
    "    }\n",
    "    tr:nth-child(even) {\n",
    "        background: #eee;\n",
    "    }\n",
    "    th {\n",
    "       background-color: lemonchiffon;\n",
    "       color: black;\n",
    "}\n",
    "</style>"
   ]
  },
  {
   "cell_type": "markdown",
   "metadata": {},
   "source": [
    "**This block of code provided by scikit-learn for the purpose of generating confusion matrices**"
   ]
  },
  {
   "cell_type": "code",
   "execution_count": 34,
   "metadata": {},
   "outputs": [],
   "source": [
    "# Provided by https://scikit-learn.org/0.20/auto_examples/model_selection/plot_confusion_matrix.html\n",
    "from sklearn.metrics import confusion_matrix\n",
    "from sklearn.utils.multiclass import unique_labels\n",
    "\n",
    "\n",
    "def plot_confusion_matrix(y_true, y_pred, classes, normalize=False, title=None, cmap=plt.cm.spring):\n",
    "    \"\"\"\n",
    "    This function prints and plots the confusion matrix.\n",
    "    Normalization can be applied by setting `normalize=True`.\n",
    "    \"\"\"\n",
    "    if not title:\n",
    "        if normalize:\n",
    "            title = \"Normalized confusion matrix\"\n",
    "        else:\n",
    "            title = \"Confusion matrix, without normalization\"\n",
    "\n",
    "    # Compute confusion matrix\n",
    "    cm = confusion_matrix(y_true, y_pred)\n",
    "    # Only use the labels that appear in the data\n",
    "    classes = classes[unique_labels(y_true, y_pred)]\n",
    "    if normalize:\n",
    "        cm = cm.astype(\"float\") / cm.sum(axis=1)[:, np.newaxis]\n",
    "\n",
    "    fig, ax = plt.subplots()\n",
    "    im = ax.imshow(cm, interpolation=\"nearest\", cmap=cmap)\n",
    "    ax.figure.colorbar(im, ax=ax)\n",
    "    # We want to show all ticks...\n",
    "    ax.set(\n",
    "        xticks=np.arange(cm.shape[1]),\n",
    "        yticks=np.arange(cm.shape[0]),\n",
    "        # ... and label them with the respective list entries\n",
    "        xticklabels=classes,\n",
    "        yticklabels=classes,\n",
    "        title=title,\n",
    "        ylabel=\"True label\",\n",
    "        xlabel=\"Predicted label\",\n",
    "    )\n",
    "\n",
    "    # Rotate the tick labels and set their alignment.\n",
    "    plt.setp(ax.get_xticklabels(), rotation=45, ha=\"right\", rotation_mode=\"anchor\")\n",
    "\n",
    "    # Loop over data dimensions and create text annotations.\n",
    "    fmt = \".2f\" if normalize else \"d\"\n",
    "    thresh = cm.max() / 2.0\n",
    "    for i in range(cm.shape[0]):\n",
    "        for j in range(cm.shape[1]):\n",
    "            ax.text(j, i, format(cm[i, j], fmt), ha=\"center\", va=\"center\", color=\"black\" if cm[i, j] > thresh else \"black\")\n",
    "    fig.tight_layout()\n",
    "    return ax"
   ]
  },
  {
   "cell_type": "code",
   "execution_count": 35,
   "metadata": {},
   "outputs": [
    {
     "data": {
      "text/html": [
       "<div>\n",
       "<style scoped>\n",
       "    .dataframe tbody tr th:only-of-type {\n",
       "        vertical-align: middle;\n",
       "    }\n",
       "\n",
       "    .dataframe tbody tr th {\n",
       "        vertical-align: top;\n",
       "    }\n",
       "\n",
       "    .dataframe thead th {\n",
       "        text-align: right;\n",
       "    }\n",
       "</style>\n",
       "<table border=\"1\" class=\"dataframe\">\n",
       "  <thead>\n",
       "    <tr style=\"text-align: right;\">\n",
       "      <th></th>\n",
       "      <th></th>\n",
       "      <th>time_in_hospital</th>\n",
       "      <th>num_lab_procedures</th>\n",
       "      <th>num_procedures</th>\n",
       "      <th>num_medications</th>\n",
       "      <th>number_diagnoses</th>\n",
       "      <th>readmitted_less_30</th>\n",
       "      <th>imputed_age</th>\n",
       "      <th>num_med_changes</th>\n",
       "      <th>num_meds_total</th>\n",
       "      <th>all_hospitalizations</th>\n",
       "      <th>num_enc_to_date</th>\n",
       "      <th>race_AfricanAmerican</th>\n",
       "      <th>race_Asian</th>\n",
       "      <th>race_Caucasian</th>\n",
       "      <th>race_Hispanic</th>\n",
       "      <th>race_Other</th>\n",
       "      <th>race_unknown</th>\n",
       "      <th>gender_Female</th>\n",
       "      <th>gender_Male</th>\n",
       "      <th>admission_type_id_1</th>\n",
       "      <th>admission_type_id_2</th>\n",
       "      <th>admission_type_id_3</th>\n",
       "      <th>admission_type_id_4</th>\n",
       "      <th>admission_type_id_5</th>\n",
       "      <th>admission_type_id_6</th>\n",
       "      <th>admission_type_id_7</th>\n",
       "      <th>admission_type_id_8</th>\n",
       "      <th>discharge_disposition_id_1</th>\n",
       "      <th>discharge_disposition_id_10</th>\n",
       "      <th>discharge_disposition_id_12</th>\n",
       "      <th>discharge_disposition_id_13</th>\n",
       "      <th>discharge_disposition_id_14</th>\n",
       "      <th>discharge_disposition_id_15</th>\n",
       "      <th>discharge_disposition_id_16</th>\n",
       "      <th>discharge_disposition_id_17</th>\n",
       "      <th>discharge_disposition_id_18</th>\n",
       "      <th>discharge_disposition_id_2</th>\n",
       "      <th>discharge_disposition_id_22</th>\n",
       "      <th>discharge_disposition_id_23</th>\n",
       "      <th>discharge_disposition_id_24</th>\n",
       "      <th>discharge_disposition_id_25</th>\n",
       "      <th>discharge_disposition_id_27</th>\n",
       "      <th>discharge_disposition_id_28</th>\n",
       "      <th>discharge_disposition_id_3</th>\n",
       "      <th>discharge_disposition_id_4</th>\n",
       "      <th>discharge_disposition_id_5</th>\n",
       "      <th>discharge_disposition_id_6</th>\n",
       "      <th>discharge_disposition_id_7</th>\n",
       "      <th>discharge_disposition_id_8</th>\n",
       "      <th>discharge_disposition_id_9</th>\n",
       "      <th>admission_source_id_1</th>\n",
       "      <th>admission_source_id_10</th>\n",
       "      <th>admission_source_id_11</th>\n",
       "      <th>admission_source_id_13</th>\n",
       "      <th>admission_source_id_14</th>\n",
       "      <th>admission_source_id_17</th>\n",
       "      <th>admission_source_id_2</th>\n",
       "      <th>admission_source_id_20</th>\n",
       "      <th>admission_source_id_22</th>\n",
       "      <th>admission_source_id_25</th>\n",
       "      <th>admission_source_id_3</th>\n",
       "      <th>admission_source_id_4</th>\n",
       "      <th>admission_source_id_5</th>\n",
       "      <th>admission_source_id_6</th>\n",
       "      <th>admission_source_id_7</th>\n",
       "      <th>admission_source_id_8</th>\n",
       "      <th>admission_source_id_9</th>\n",
       "      <th>max_glu_serum_&gt;200</th>\n",
       "      <th>max_glu_serum_&gt;300</th>\n",
       "      <th>max_glu_serum_None</th>\n",
       "      <th>max_glu_serum_Norm</th>\n",
       "      <th>A1Cresult_&gt;7</th>\n",
       "      <th>A1Cresult_&gt;8</th>\n",
       "      <th>A1Cresult_None</th>\n",
       "      <th>A1Cresult_Norm</th>\n",
       "      <th>change_Ch</th>\n",
       "      <th>change_No</th>\n",
       "      <th>diabetesMed_No</th>\n",
       "      <th>diabetesMed_Yes</th>\n",
       "    </tr>\n",
       "    <tr>\n",
       "      <th>patient_nbr</th>\n",
       "      <th>encounter_id</th>\n",
       "      <th></th>\n",
       "      <th></th>\n",
       "      <th></th>\n",
       "      <th></th>\n",
       "      <th></th>\n",
       "      <th></th>\n",
       "      <th></th>\n",
       "      <th></th>\n",
       "      <th></th>\n",
       "      <th></th>\n",
       "      <th></th>\n",
       "      <th></th>\n",
       "      <th></th>\n",
       "      <th></th>\n",
       "      <th></th>\n",
       "      <th></th>\n",
       "      <th></th>\n",
       "      <th></th>\n",
       "      <th></th>\n",
       "      <th></th>\n",
       "      <th></th>\n",
       "      <th></th>\n",
       "      <th></th>\n",
       "      <th></th>\n",
       "      <th></th>\n",
       "      <th></th>\n",
       "      <th></th>\n",
       "      <th></th>\n",
       "      <th></th>\n",
       "      <th></th>\n",
       "      <th></th>\n",
       "      <th></th>\n",
       "      <th></th>\n",
       "      <th></th>\n",
       "      <th></th>\n",
       "      <th></th>\n",
       "      <th></th>\n",
       "      <th></th>\n",
       "      <th></th>\n",
       "      <th></th>\n",
       "      <th></th>\n",
       "      <th></th>\n",
       "      <th></th>\n",
       "      <th></th>\n",
       "      <th></th>\n",
       "      <th></th>\n",
       "      <th></th>\n",
       "      <th></th>\n",
       "      <th></th>\n",
       "      <th></th>\n",
       "      <th></th>\n",
       "      <th></th>\n",
       "      <th></th>\n",
       "      <th></th>\n",
       "      <th></th>\n",
       "      <th></th>\n",
       "      <th></th>\n",
       "      <th></th>\n",
       "      <th></th>\n",
       "      <th></th>\n",
       "      <th></th>\n",
       "      <th></th>\n",
       "      <th></th>\n",
       "      <th></th>\n",
       "      <th></th>\n",
       "      <th></th>\n",
       "      <th></th>\n",
       "      <th></th>\n",
       "      <th></th>\n",
       "      <th></th>\n",
       "      <th></th>\n",
       "      <th></th>\n",
       "      <th></th>\n",
       "      <th></th>\n",
       "      <th></th>\n",
       "      <th></th>\n",
       "      <th></th>\n",
       "      <th></th>\n",
       "      <th></th>\n",
       "    </tr>\n",
       "  </thead>\n",
       "  <tbody>\n",
       "    <tr>\n",
       "      <th rowspan=\"2\" valign=\"top\">135</th>\n",
       "      <th>24437208</th>\n",
       "      <td>1.213758</td>\n",
       "      <td>1.735740</td>\n",
       "      <td>2.746235</td>\n",
       "      <td>2.102960</td>\n",
       "      <td>0.304807</td>\n",
       "      <td>1</td>\n",
       "      <td>-0.679151</td>\n",
       "      <td>1.460352</td>\n",
       "      <td>1.968756</td>\n",
       "      <td>-0.775520</td>\n",
       "      <td>-0.545701</td>\n",
       "      <td>0</td>\n",
       "      <td>0</td>\n",
       "      <td>1</td>\n",
       "      <td>0</td>\n",
       "      <td>0</td>\n",
       "      <td>0</td>\n",
       "      <td>1</td>\n",
       "      <td>0</td>\n",
       "      <td>0</td>\n",
       "      <td>1</td>\n",
       "      <td>0</td>\n",
       "      <td>0</td>\n",
       "      <td>0</td>\n",
       "      <td>0</td>\n",
       "      <td>0</td>\n",
       "      <td>0</td>\n",
       "      <td>1</td>\n",
       "      <td>0</td>\n",
       "      <td>0</td>\n",
       "      <td>0</td>\n",
       "      <td>0</td>\n",
       "      <td>0</td>\n",
       "      <td>0</td>\n",
       "      <td>0</td>\n",
       "      <td>0</td>\n",
       "      <td>0</td>\n",
       "      <td>0</td>\n",
       "      <td>0</td>\n",
       "      <td>0</td>\n",
       "      <td>0</td>\n",
       "      <td>0</td>\n",
       "      <td>0</td>\n",
       "      <td>0</td>\n",
       "      <td>0</td>\n",
       "      <td>0</td>\n",
       "      <td>0</td>\n",
       "      <td>0</td>\n",
       "      <td>0</td>\n",
       "      <td>0</td>\n",
       "      <td>1</td>\n",
       "      <td>0</td>\n",
       "      <td>0</td>\n",
       "      <td>0</td>\n",
       "      <td>0</td>\n",
       "      <td>0</td>\n",
       "      <td>0</td>\n",
       "      <td>0</td>\n",
       "      <td>0</td>\n",
       "      <td>0</td>\n",
       "      <td>0</td>\n",
       "      <td>0</td>\n",
       "      <td>0</td>\n",
       "      <td>0</td>\n",
       "      <td>0</td>\n",
       "      <td>0</td>\n",
       "      <td>0</td>\n",
       "      <td>0</td>\n",
       "      <td>0</td>\n",
       "      <td>1</td>\n",
       "      <td>0</td>\n",
       "      <td>0</td>\n",
       "      <td>0</td>\n",
       "      <td>1</td>\n",
       "      <td>0</td>\n",
       "      <td>1</td>\n",
       "      <td>0</td>\n",
       "      <td>0</td>\n",
       "      <td>1</td>\n",
       "    </tr>\n",
       "    <tr>\n",
       "      <th>26264286</th>\n",
       "      <td>-0.467197</td>\n",
       "      <td>-0.608723</td>\n",
       "      <td>-0.194489</td>\n",
       "      <td>-0.244895</td>\n",
       "      <td>-1.242976</td>\n",
       "      <td>0</td>\n",
       "      <td>-0.679151</td>\n",
       "      <td>-0.589411</td>\n",
       "      <td>0.883705</td>\n",
       "      <td>0.271127</td>\n",
       "      <td>0.610166</td>\n",
       "      <td>0</td>\n",
       "      <td>0</td>\n",
       "      <td>1</td>\n",
       "      <td>0</td>\n",
       "      <td>0</td>\n",
       "      <td>0</td>\n",
       "      <td>1</td>\n",
       "      <td>0</td>\n",
       "      <td>1</td>\n",
       "      <td>0</td>\n",
       "      <td>0</td>\n",
       "      <td>0</td>\n",
       "      <td>0</td>\n",
       "      <td>0</td>\n",
       "      <td>0</td>\n",
       "      <td>0</td>\n",
       "      <td>1</td>\n",
       "      <td>0</td>\n",
       "      <td>0</td>\n",
       "      <td>0</td>\n",
       "      <td>0</td>\n",
       "      <td>0</td>\n",
       "      <td>0</td>\n",
       "      <td>0</td>\n",
       "      <td>0</td>\n",
       "      <td>0</td>\n",
       "      <td>0</td>\n",
       "      <td>0</td>\n",
       "      <td>0</td>\n",
       "      <td>0</td>\n",
       "      <td>0</td>\n",
       "      <td>0</td>\n",
       "      <td>0</td>\n",
       "      <td>0</td>\n",
       "      <td>0</td>\n",
       "      <td>0</td>\n",
       "      <td>0</td>\n",
       "      <td>0</td>\n",
       "      <td>0</td>\n",
       "      <td>0</td>\n",
       "      <td>0</td>\n",
       "      <td>0</td>\n",
       "      <td>0</td>\n",
       "      <td>0</td>\n",
       "      <td>0</td>\n",
       "      <td>0</td>\n",
       "      <td>0</td>\n",
       "      <td>0</td>\n",
       "      <td>0</td>\n",
       "      <td>0</td>\n",
       "      <td>0</td>\n",
       "      <td>0</td>\n",
       "      <td>0</td>\n",
       "      <td>1</td>\n",
       "      <td>0</td>\n",
       "      <td>0</td>\n",
       "      <td>0</td>\n",
       "      <td>0</td>\n",
       "      <td>1</td>\n",
       "      <td>0</td>\n",
       "      <td>0</td>\n",
       "      <td>0</td>\n",
       "      <td>1</td>\n",
       "      <td>0</td>\n",
       "      <td>1</td>\n",
       "      <td>0</td>\n",
       "      <td>0</td>\n",
       "      <td>1</td>\n",
       "    </tr>\n",
       "    <tr>\n",
       "      <th>378</th>\n",
       "      <th>29758806</th>\n",
       "      <td>-0.803388</td>\n",
       "      <td>0.308675</td>\n",
       "      <td>-0.194489</td>\n",
       "      <td>-0.615609</td>\n",
       "      <td>-2.274832</td>\n",
       "      <td>0</td>\n",
       "      <td>-0.679151</td>\n",
       "      <td>-0.589411</td>\n",
       "      <td>-1.286398</td>\n",
       "      <td>-0.775520</td>\n",
       "      <td>-0.545701</td>\n",
       "      <td>0</td>\n",
       "      <td>0</td>\n",
       "      <td>1</td>\n",
       "      <td>0</td>\n",
       "      <td>0</td>\n",
       "      <td>0</td>\n",
       "      <td>1</td>\n",
       "      <td>0</td>\n",
       "      <td>0</td>\n",
       "      <td>0</td>\n",
       "      <td>1</td>\n",
       "      <td>0</td>\n",
       "      <td>0</td>\n",
       "      <td>0</td>\n",
       "      <td>0</td>\n",
       "      <td>0</td>\n",
       "      <td>1</td>\n",
       "      <td>0</td>\n",
       "      <td>0</td>\n",
       "      <td>0</td>\n",
       "      <td>0</td>\n",
       "      <td>0</td>\n",
       "      <td>0</td>\n",
       "      <td>0</td>\n",
       "      <td>0</td>\n",
       "      <td>0</td>\n",
       "      <td>0</td>\n",
       "      <td>0</td>\n",
       "      <td>0</td>\n",
       "      <td>0</td>\n",
       "      <td>0</td>\n",
       "      <td>0</td>\n",
       "      <td>0</td>\n",
       "      <td>0</td>\n",
       "      <td>0</td>\n",
       "      <td>0</td>\n",
       "      <td>0</td>\n",
       "      <td>0</td>\n",
       "      <td>0</td>\n",
       "      <td>1</td>\n",
       "      <td>0</td>\n",
       "      <td>0</td>\n",
       "      <td>0</td>\n",
       "      <td>0</td>\n",
       "      <td>0</td>\n",
       "      <td>0</td>\n",
       "      <td>0</td>\n",
       "      <td>0</td>\n",
       "      <td>0</td>\n",
       "      <td>0</td>\n",
       "      <td>0</td>\n",
       "      <td>0</td>\n",
       "      <td>0</td>\n",
       "      <td>0</td>\n",
       "      <td>0</td>\n",
       "      <td>0</td>\n",
       "      <td>0</td>\n",
       "      <td>0</td>\n",
       "      <td>1</td>\n",
       "      <td>0</td>\n",
       "      <td>0</td>\n",
       "      <td>0</td>\n",
       "      <td>1</td>\n",
       "      <td>0</td>\n",
       "      <td>0</td>\n",
       "      <td>1</td>\n",
       "      <td>1</td>\n",
       "      <td>0</td>\n",
       "    </tr>\n",
       "    <tr>\n",
       "      <th>729</th>\n",
       "      <th>189899286</th>\n",
       "      <td>-0.131006</td>\n",
       "      <td>1.277041</td>\n",
       "      <td>0.393655</td>\n",
       "      <td>0.867247</td>\n",
       "      <td>0.820735</td>\n",
       "      <td>0</td>\n",
       "      <td>1.202018</td>\n",
       "      <td>-0.589411</td>\n",
       "      <td>-0.201346</td>\n",
       "      <td>-0.775520</td>\n",
       "      <td>-0.545701</td>\n",
       "      <td>0</td>\n",
       "      <td>0</td>\n",
       "      <td>1</td>\n",
       "      <td>0</td>\n",
       "      <td>0</td>\n",
       "      <td>0</td>\n",
       "      <td>1</td>\n",
       "      <td>0</td>\n",
       "      <td>1</td>\n",
       "      <td>0</td>\n",
       "      <td>0</td>\n",
       "      <td>0</td>\n",
       "      <td>0</td>\n",
       "      <td>0</td>\n",
       "      <td>0</td>\n",
       "      <td>0</td>\n",
       "      <td>0</td>\n",
       "      <td>0</td>\n",
       "      <td>0</td>\n",
       "      <td>0</td>\n",
       "      <td>0</td>\n",
       "      <td>0</td>\n",
       "      <td>0</td>\n",
       "      <td>0</td>\n",
       "      <td>0</td>\n",
       "      <td>0</td>\n",
       "      <td>0</td>\n",
       "      <td>0</td>\n",
       "      <td>0</td>\n",
       "      <td>0</td>\n",
       "      <td>0</td>\n",
       "      <td>0</td>\n",
       "      <td>1</td>\n",
       "      <td>0</td>\n",
       "      <td>0</td>\n",
       "      <td>0</td>\n",
       "      <td>0</td>\n",
       "      <td>0</td>\n",
       "      <td>0</td>\n",
       "      <td>0</td>\n",
       "      <td>0</td>\n",
       "      <td>0</td>\n",
       "      <td>0</td>\n",
       "      <td>0</td>\n",
       "      <td>0</td>\n",
       "      <td>0</td>\n",
       "      <td>0</td>\n",
       "      <td>0</td>\n",
       "      <td>0</td>\n",
       "      <td>0</td>\n",
       "      <td>0</td>\n",
       "      <td>0</td>\n",
       "      <td>0</td>\n",
       "      <td>1</td>\n",
       "      <td>0</td>\n",
       "      <td>0</td>\n",
       "      <td>0</td>\n",
       "      <td>0</td>\n",
       "      <td>1</td>\n",
       "      <td>0</td>\n",
       "      <td>1</td>\n",
       "      <td>0</td>\n",
       "      <td>0</td>\n",
       "      <td>0</td>\n",
       "      <td>0</td>\n",
       "      <td>1</td>\n",
       "      <td>0</td>\n",
       "      <td>1</td>\n",
       "    </tr>\n",
       "    <tr>\n",
       "      <th>774</th>\n",
       "      <th>64331490</th>\n",
       "      <td>-0.467197</td>\n",
       "      <td>0.155776</td>\n",
       "      <td>-0.782634</td>\n",
       "      <td>0.496533</td>\n",
       "      <td>0.820735</td>\n",
       "      <td>0</td>\n",
       "      <td>1.202018</td>\n",
       "      <td>-0.589411</td>\n",
       "      <td>0.883705</td>\n",
       "      <td>-0.775520</td>\n",
       "      <td>-0.545701</td>\n",
       "      <td>0</td>\n",
       "      <td>0</td>\n",
       "      <td>1</td>\n",
       "      <td>0</td>\n",
       "      <td>0</td>\n",
       "      <td>0</td>\n",
       "      <td>1</td>\n",
       "      <td>0</td>\n",
       "      <td>1</td>\n",
       "      <td>0</td>\n",
       "      <td>0</td>\n",
       "      <td>0</td>\n",
       "      <td>0</td>\n",
       "      <td>0</td>\n",
       "      <td>0</td>\n",
       "      <td>0</td>\n",
       "      <td>1</td>\n",
       "      <td>0</td>\n",
       "      <td>0</td>\n",
       "      <td>0</td>\n",
       "      <td>0</td>\n",
       "      <td>0</td>\n",
       "      <td>0</td>\n",
       "      <td>0</td>\n",
       "      <td>0</td>\n",
       "      <td>0</td>\n",
       "      <td>0</td>\n",
       "      <td>0</td>\n",
       "      <td>0</td>\n",
       "      <td>0</td>\n",
       "      <td>0</td>\n",
       "      <td>0</td>\n",
       "      <td>0</td>\n",
       "      <td>0</td>\n",
       "      <td>0</td>\n",
       "      <td>0</td>\n",
       "      <td>0</td>\n",
       "      <td>0</td>\n",
       "      <td>0</td>\n",
       "      <td>0</td>\n",
       "      <td>0</td>\n",
       "      <td>0</td>\n",
       "      <td>0</td>\n",
       "      <td>0</td>\n",
       "      <td>0</td>\n",
       "      <td>0</td>\n",
       "      <td>0</td>\n",
       "      <td>0</td>\n",
       "      <td>0</td>\n",
       "      <td>0</td>\n",
       "      <td>0</td>\n",
       "      <td>0</td>\n",
       "      <td>0</td>\n",
       "      <td>1</td>\n",
       "      <td>0</td>\n",
       "      <td>0</td>\n",
       "      <td>0</td>\n",
       "      <td>0</td>\n",
       "      <td>1</td>\n",
       "      <td>0</td>\n",
       "      <td>0</td>\n",
       "      <td>1</td>\n",
       "      <td>0</td>\n",
       "      <td>0</td>\n",
       "      <td>1</td>\n",
       "      <td>0</td>\n",
       "      <td>0</td>\n",
       "      <td>1</td>\n",
       "    </tr>\n",
       "  </tbody>\n",
       "</table>\n",
       "</div>"
      ],
      "text/plain": [
       "                          time_in_hospital  num_lab_procedures  num_procedures  num_medications  number_diagnoses  readmitted_less_30  imputed_age  num_med_changes  num_meds_total  all_hospitalizations  num_enc_to_date  race_AfricanAmerican  race_Asian  race_Caucasian  race_Hispanic  race_Other  race_unknown  gender_Female  gender_Male  admission_type_id_1  admission_type_id_2  admission_type_id_3  admission_type_id_4  admission_type_id_5  admission_type_id_6  admission_type_id_7  admission_type_id_8  discharge_disposition_id_1  discharge_disposition_id_10  discharge_disposition_id_12  discharge_disposition_id_13  discharge_disposition_id_14  discharge_disposition_id_15  discharge_disposition_id_16  discharge_disposition_id_17  discharge_disposition_id_18  discharge_disposition_id_2  discharge_disposition_id_22  discharge_disposition_id_23  discharge_disposition_id_24  discharge_disposition_id_25  discharge_disposition_id_27  discharge_disposition_id_28  discharge_disposition_id_3  discharge_disposition_id_4  discharge_disposition_id_5  discharge_disposition_id_6  discharge_disposition_id_7  discharge_disposition_id_8  discharge_disposition_id_9  admission_source_id_1  admission_source_id_10  admission_source_id_11  admission_source_id_13  admission_source_id_14  admission_source_id_17  admission_source_id_2  admission_source_id_20  admission_source_id_22  admission_source_id_25  admission_source_id_3  admission_source_id_4  admission_source_id_5  admission_source_id_6  admission_source_id_7  admission_source_id_8  admission_source_id_9  max_glu_serum_>200  max_glu_serum_>300  max_glu_serum_None  max_glu_serum_Norm  A1Cresult_>7  A1Cresult_>8  A1Cresult_None  A1Cresult_Norm  change_Ch  change_No  diabetesMed_No  diabetesMed_Yes\n",
       "patient_nbr encounter_id                                                                                                                                                                                                                                                                                                                                                                                                                                                                                                                                                                                                                                                                                                                                                                                                                                                                                                                                                                                                                                                                                                                                                                                                                                                                                                                                                                                                                                                                                                                                                                                                                                                                                                                                                                                                     \n",
       "135         24437208              1.213758            1.735740        2.746235         2.102960          0.304807                   1    -0.679151         1.460352        1.968756             -0.775520        -0.545701                     0           0               1              0           0             0              1            0                    0                    1                    0                    0                    0                    0                    0                    0                           1                            0                            0                            0                            0                            0                            0                            0                            0                           0                            0                            0                            0                            0                            0                            0                           0                           0                           0                           0                           0                           0                           0                      1                       0                       0                       0                       0                       0                      0                       0                       0                       0                      0                      0                      0                      0                      0                      0                      0                   0                   0                   1                   0             0             0               1               0          1          0               0                1\n",
       "            26264286             -0.467197           -0.608723       -0.194489        -0.244895         -1.242976                   0    -0.679151        -0.589411        0.883705              0.271127         0.610166                     0           0               1              0           0             0              1            0                    1                    0                    0                    0                    0                    0                    0                    0                           1                            0                            0                            0                            0                            0                            0                            0                            0                           0                            0                            0                            0                            0                            0                            0                           0                           0                           0                           0                           0                           0                           0                      0                       0                       0                       0                       0                       0                      0                       0                       0                       0                      0                      0                      0                      0                      1                      0                      0                   0                   0                   1                   0             0             0               1               0          1          0               0                1\n",
       "378         29758806             -0.803388            0.308675       -0.194489        -0.615609         -2.274832                   0    -0.679151        -0.589411       -1.286398             -0.775520        -0.545701                     0           0               1              0           0             0              1            0                    0                    0                    1                    0                    0                    0                    0                    0                           1                            0                            0                            0                            0                            0                            0                            0                            0                           0                            0                            0                            0                            0                            0                            0                           0                           0                           0                           0                           0                           0                           0                      1                       0                       0                       0                       0                       0                      0                       0                       0                       0                      0                      0                      0                      0                      0                      0                      0                   0                   0                   1                   0             0             0               1               0          0          1               1                0\n",
       "729         189899286            -0.131006            1.277041        0.393655         0.867247          0.820735                   0     1.202018        -0.589411       -0.201346             -0.775520        -0.545701                     0           0               1              0           0             0              1            0                    1                    0                    0                    0                    0                    0                    0                    0                           0                            0                            0                            0                            0                            0                            0                            0                            0                           0                            0                            0                            0                            0                            0                            0                           1                           0                           0                           0                           0                           0                           0                      0                       0                       0                       0                       0                       0                      0                       0                       0                       0                      0                      0                      0                      0                      1                      0                      0                   0                   0                   1                   0             1             0               0               0          0          1               0                1\n",
       "774         64331490             -0.467197            0.155776       -0.782634         0.496533          0.820735                   0     1.202018        -0.589411        0.883705             -0.775520        -0.545701                     0           0               1              0           0             0              1            0                    1                    0                    0                    0                    0                    0                    0                    0                           1                            0                            0                            0                            0                            0                            0                            0                            0                           0                            0                            0                            0                            0                            0                            0                           0                           0                           0                           0                           0                           0                           0                      0                       0                       0                       0                       0                       0                      0                       0                       0                       0                      0                      0                      0                      0                      1                      0                      0                   0                   0                   1                   0             0             1               0               0          1          0               0                1"
      ]
     },
     "execution_count": 35,
     "metadata": {},
     "output_type": "execute_result"
    }
   ],
   "source": [
    "df = pd.read_pickle(\"diabetic_data_processed.pkl\")\n",
    "df.head(5)"
   ]
  },
  {
   "cell_type": "code",
   "execution_count": 36,
   "metadata": {},
   "outputs": [
    {
     "data": {
      "text/plain": [
       "(91679, 79)"
      ]
     },
     "execution_count": 36,
     "metadata": {},
     "output_type": "execute_result"
    }
   ],
   "source": [
    "df.shape"
   ]
  },
  {
   "cell_type": "markdown",
   "metadata": {},
   "source": [
    "# Modeling Through Undersampling Majority Class\n",
    "\n",
    "In this section, I will attempt to predict readmissions using two different (but related) machine learning algorithms: decision trees and random forests.  This dataset has a problem, however, in that it is highly imbalanced.  11% of the encounters leads to a readmission and 89% do not.  If I were to train a ML algorithm with the set that unbalanced, it could produce a model highly biased toward no readmissions.  In order to deal with this, I will undersample the majority class.  As can be seen below, the training data has an equal 50/50 split between the two classes.  \n",
    "\n",
    "The random forest performed somewhat better than the decision tree model, so I will analyze here further.  The random forest model trained with this data had an accuracy of 59.27% classifying the testing data.  Precision was 15.2% and recall was 60.4%.  So, the model was extremely imprecise as it had a very high number of falsely predicted readmits.  The recall was somewhat better in that the number of falsely predicted No_readmits was much lower than true readmits.\n",
    "\n",
    "Of the three processes I tried, I think random forest with majority undersampling may hold the most promise.  It had the lowest % of false No_readmits, which I think for this type of problem is quite important.  These would be people the model predicted would not be re-admitted, but actually were.  If a hospital is penalized for this type of situation, I would think this type of model would be useful.\n",
    "\n"
   ]
  },
  {
   "cell_type": "code",
   "execution_count": 37,
   "metadata": {},
   "outputs": [
    {
     "name": "stdout",
     "output_type": "stream",
     "text": [
      "Pre-Resampled training class shape Counter({0: 65331, 1: 8012})\n",
      "Resampled training class shape Counter({0: 8012, 1: 8012})\n"
     ]
    }
   ],
   "source": [
    "df_test = df.sample(frac=0.2)\n",
    "X_test = df_test.drop(\"readmitted_less_30\", axis=1)\n",
    "y_test = df_test[\"readmitted_less_30\"]\n",
    "\n",
    "\n",
    "df_train = df.drop(df_test.index, axis=0)\n",
    "X_train = df_train.drop(\"readmitted_less_30\", axis=1)\n",
    "y_train = df_train[\"readmitted_less_30\"]\n",
    "print('Pre-Resampled training class shape %s' % Counter(y_train))\n",
    "\n",
    "rus = RandomUnderSampler()\n",
    "X_train, y_train = rus.fit_sample(X_train, y_train)\n",
    "\n",
    "print('Resampled training class shape %s' % Counter(y_train))"
   ]
  },
  {
   "cell_type": "code",
   "execution_count": 38,
   "metadata": {
    "scrolled": true
   },
   "outputs": [
    {
     "name": "stdout",
     "output_type": "stream",
     "text": [
      "Accuracy of non-cross validated decision tree classifier (testing set): 54.27%\n"
     ]
    }
   ],
   "source": [
    "dtree_classifier = DecisionTreeClassifier()\n",
    "dtree_classifier.fit(X_train, y_train)\n",
    "y_test_predict = dtree_classifier.predict(X_test)\n",
    "print(\"Accuracy of non-cross validated decision tree classifier (testing set): {:.2%}\".format(dtree_classifier.score(X_test, y_test)))"
   ]
  },
  {
   "cell_type": "code",
   "execution_count": 46,
   "metadata": {
    "scrolled": false
   },
   "outputs": [],
   "source": [
    "# from IPython.display import SVG\n",
    "\n",
    "# graph = Source(tree.export_graphviz(dtree_classifier, out_file=None, feature_names=X_train.columns, class_names=np.array([\"No_Readmit\", \"Readmit\"])))\n",
    "# SVG(graph.pipe(format=\"svg\"))"
   ]
  },
  {
   "cell_type": "code",
   "execution_count": 8,
   "metadata": {},
   "outputs": [
    {
     "data": {
      "image/png": "[encoded data removed]",
      "text/plain": [
       "<Figure size 432x288 with 2 Axes>"
      ]
     },
     "metadata": {
      "needs_background": "light"
     },
     "output_type": "display_data"
    },
    {
     "data": {
      "image/png": "[encoded data removed]",
      "text/plain": [
       "<Figure size 432x288 with 2 Axes>"
      ]
     },
     "metadata": {
      "needs_background": "light"
     },
     "output_type": "display_data"
    }
   ],
   "source": [
    "ax1 = plot_confusion_matrix(np.array(y_test), np.array(y_test_predict), classes=np.array([\"No_Readmit\", \"Readmit\"]), title=\"Confusion matrix, without normalization\")\n",
    "ax2 = plot_confusion_matrix(np.array(y_test), np.array(y_test_predict), classes=np.array([\"No_Readmit\", \"Readmit\"]), normalize=True, title=\"Confusion matrix, with normalization\")"
   ]
  },
  {
   "cell_type": "code",
   "execution_count": 9,
   "metadata": {
    "scrolled": true
   },
   "outputs": [
    {
     "data": {
      "text/html": [
       "<div>\n",
       "<style scoped>\n",
       "    .dataframe tbody tr th:only-of-type {\n",
       "        vertical-align: middle;\n",
       "    }\n",
       "\n",
       "    .dataframe tbody tr th {\n",
       "        vertical-align: top;\n",
       "    }\n",
       "\n",
       "    .dataframe thead th {\n",
       "        text-align: right;\n",
       "    }\n",
       "</style>\n",
       "<table border=\"1\" class=\"dataframe\">\n",
       "  <thead>\n",
       "    <tr style=\"text-align: right;\">\n",
       "      <th></th>\n",
       "      <th>precision</th>\n",
       "      <th>recall</th>\n",
       "      <th>f1-score</th>\n",
       "      <th>support</th>\n",
       "    </tr>\n",
       "  </thead>\n",
       "  <tbody>\n",
       "    <tr>\n",
       "      <th>No_Readmit</th>\n",
       "      <td>0.902393</td>\n",
       "      <td>0.526838</td>\n",
       "      <td>0.665274</td>\n",
       "      <td>16320.000000</td>\n",
       "    </tr>\n",
       "    <tr>\n",
       "      <th>Readmit</th>\n",
       "      <td>0.123297</td>\n",
       "      <td>0.538690</td>\n",
       "      <td>0.200665</td>\n",
       "      <td>2016.000000</td>\n",
       "    </tr>\n",
       "    <tr>\n",
       "      <th>accuracy</th>\n",
       "      <td>0.528141</td>\n",
       "      <td>0.528141</td>\n",
       "      <td>0.528141</td>\n",
       "      <td>0.528141</td>\n",
       "    </tr>\n",
       "    <tr>\n",
       "      <th>macro avg</th>\n",
       "      <td>0.512845</td>\n",
       "      <td>0.532764</td>\n",
       "      <td>0.432970</td>\n",
       "      <td>18336.000000</td>\n",
       "    </tr>\n",
       "    <tr>\n",
       "      <th>weighted avg</th>\n",
       "      <td>0.816733</td>\n",
       "      <td>0.528141</td>\n",
       "      <td>0.614191</td>\n",
       "      <td>18336.000000</td>\n",
       "    </tr>\n",
       "  </tbody>\n",
       "</table>\n",
       "</div>"
      ],
      "text/plain": [
       "              precision    recall  f1-score       support\n",
       "No_Readmit     0.902393  0.526838  0.665274  16320.000000\n",
       "Readmit        0.123297  0.538690  0.200665   2016.000000\n",
       "accuracy       0.528141  0.528141  0.528141      0.528141\n",
       "macro avg      0.512845  0.532764  0.432970  18336.000000\n",
       "weighted avg   0.816733  0.528141  0.614191  18336.000000"
      ]
     },
     "execution_count": 9,
     "metadata": {},
     "output_type": "execute_result"
    }
   ],
   "source": [
    "report_dict = classification_report(y_test, y_test_predict, target_names=np.array([\"No_Readmit\", \"Readmit\"]), output_dict=True)\n",
    "pd.DataFrame(report_dict).transpose()"
   ]
  },
  {
   "cell_type": "code",
   "execution_count": 10,
   "metadata": {},
   "outputs": [
    {
     "name": "stdout",
     "output_type": "stream",
     "text": [
      "Accuracy of non-cross validated random forrest (testing set): 58.58%\n"
     ]
    }
   ],
   "source": [
    "rand_frst_classifier = RandomForestClassifier()\n",
    "rand_frst_classifier.fit(X_train, y_train)\n",
    "y_test_predict = rand_frst_classifier.predict(X_test)\n",
    "print(\"Accuracy of non-cross validated random forest (testing set): {:.2%}\".format(rand_frst_classifier.score(X_test, y_test)))"
   ]
  },
  {
   "cell_type": "code",
   "execution_count": 11,
   "metadata": {},
   "outputs": [
    {
     "data": {
      "image/png": "[encoded data removed]",
      "text/plain": [
       "<Figure size 432x288 with 2 Axes>"
      ]
     },
     "metadata": {
      "needs_background": "light"
     },
     "output_type": "display_data"
    },
    {
     "data": {
      "image/png": "[encoded data removed]",
      "text/plain": [
       "<Figure size 432x288 with 2 Axes>"
      ]
     },
     "metadata": {
      "needs_background": "light"
     },
     "output_type": "display_data"
    }
   ],
   "source": [
    "ax1 = plot_confusion_matrix(np.array(y_test), np.array(y_test_predict), classes=np.array([\"No_Readmit\", \"Readmit\"]), title=\"Confusion matrix, without normalization\")\n",
    "ax2 = plot_confusion_matrix(np.array(y_test), np.array(y_test_predict), classes=np.array([\"No_Readmit\", \"Readmit\"]), normalize=True, title=\"Confusion matrix, with normalization\")"
   ]
  },
  {
   "cell_type": "code",
   "execution_count": 12,
   "metadata": {},
   "outputs": [
    {
     "data": {
      "text/html": [
       "<div>\n",
       "<style scoped>\n",
       "    .dataframe tbody tr th:only-of-type {\n",
       "        vertical-align: middle;\n",
       "    }\n",
       "\n",
       "    .dataframe tbody tr th {\n",
       "        vertical-align: top;\n",
       "    }\n",
       "\n",
       "    .dataframe thead th {\n",
       "        text-align: right;\n",
       "    }\n",
       "</style>\n",
       "<table border=\"1\" class=\"dataframe\">\n",
       "  <thead>\n",
       "    <tr style=\"text-align: right;\">\n",
       "      <th></th>\n",
       "      <th>precision</th>\n",
       "      <th>recall</th>\n",
       "      <th>f1-score</th>\n",
       "      <th>support</th>\n",
       "    </tr>\n",
       "  </thead>\n",
       "  <tbody>\n",
       "    <tr>\n",
       "      <th>No_Readmit</th>\n",
       "      <td>0.921790</td>\n",
       "      <td>0.584252</td>\n",
       "      <td>0.715197</td>\n",
       "      <td>16320.000000</td>\n",
       "    </tr>\n",
       "    <tr>\n",
       "      <th>Readmit</th>\n",
       "      <td>0.151026</td>\n",
       "      <td>0.598710</td>\n",
       "      <td>0.241207</td>\n",
       "      <td>2016.000000</td>\n",
       "    </tr>\n",
       "    <tr>\n",
       "      <th>accuracy</th>\n",
       "      <td>0.585842</td>\n",
       "      <td>0.585842</td>\n",
       "      <td>0.585842</td>\n",
       "      <td>0.585842</td>\n",
       "    </tr>\n",
       "    <tr>\n",
       "      <th>macro avg</th>\n",
       "      <td>0.536408</td>\n",
       "      <td>0.591481</td>\n",
       "      <td>0.478202</td>\n",
       "      <td>18336.000000</td>\n",
       "    </tr>\n",
       "    <tr>\n",
       "      <th>weighted avg</th>\n",
       "      <td>0.837047</td>\n",
       "      <td>0.585842</td>\n",
       "      <td>0.663082</td>\n",
       "      <td>18336.000000</td>\n",
       "    </tr>\n",
       "  </tbody>\n",
       "</table>\n",
       "</div>"
      ],
      "text/plain": [
       "              precision    recall  f1-score       support\n",
       "No_Readmit     0.921790  0.584252  0.715197  16320.000000\n",
       "Readmit        0.151026  0.598710  0.241207   2016.000000\n",
       "accuracy       0.585842  0.585842  0.585842      0.585842\n",
       "macro avg      0.536408  0.591481  0.478202  18336.000000\n",
       "weighted avg   0.837047  0.585842  0.663082  18336.000000"
      ]
     },
     "execution_count": 12,
     "metadata": {},
     "output_type": "execute_result"
    }
   ],
   "source": [
    "report_dict = classification_report(y_test, y_test_predict, target_names=np.array([\"No_Readmit\", \"Readmit\"]), output_dict=True)\n",
    "pd.DataFrame(report_dict).transpose()"
   ]
  },
  {
   "cell_type": "code",
   "execution_count": 13,
   "metadata": {},
   "outputs": [
    {
     "name": "stdout",
     "output_type": "stream",
     "text": [
      "Working on: Folds: 5 Repeats: 4 ...\n",
      "Working on: Folds: 2 Repeats: 10 ...\n",
      "Working on: Folds: 10 Repeats: 2 ...\n",
      "Working on: Folds: 10 Repeats: 10 ...\n"
     ]
    }
   ],
   "source": [
    "X = df.drop(\"readmitted_less_30\", axis=1)\n",
    "y = df[\"readmitted_less_30\"]\n",
    "\n",
    "rus = RandomUnderSampler()\n",
    "X, y = rus.fit_sample(X, y)\n",
    "\n",
    "tests = [(5, 4), (2, 10), (10, 2), (10, 10)]\n",
    "\n",
    "dTreeScores = []\n",
    "rForestScores = []\n",
    "\n",
    "for folds, repeats in tests:\n",
    "\n",
    "    print(\"Working on:\", \"Folds:\", folds, \"Repeats:\", repeats, \"...\")\n",
    "    rkf = RepeatedKFold(n_splits=folds, n_repeats=repeats)\n",
    "\n",
    "    dTree = DecisionTreeClassifier()\n",
    "    rForest = RandomForestClassifier()\n",
    "\n",
    "    dTreeScores.append(cross_val_score(dTree, X, y, cv=rkf, n_jobs=-1))\n",
    "    rForestScores.append(cross_val_score(rForest, X, y, cv=rkf, n_jobs=-1))"
   ]
  },
  {
   "cell_type": "code",
   "execution_count": 14,
   "metadata": {},
   "outputs": [
    {
     "data": {
      "text/html": [
       "<div>\n",
       "<style scoped>\n",
       "    .dataframe tbody tr th:only-of-type {\n",
       "        vertical-align: middle;\n",
       "    }\n",
       "\n",
       "    .dataframe tbody tr th {\n",
       "        vertical-align: top;\n",
       "    }\n",
       "\n",
       "    .dataframe thead th {\n",
       "        text-align: right;\n",
       "    }\n",
       "</style>\n",
       "<table border=\"1\" class=\"dataframe\">\n",
       "  <thead>\n",
       "    <tr style=\"text-align: right;\">\n",
       "      <th></th>\n",
       "      <th></th>\n",
       "      <th>Dtree_Acc_mean</th>\n",
       "      <th>DTree_Acc-stdDev</th>\n",
       "      <th>RForest_Acc-mean</th>\n",
       "      <th>RForest_Acc-stdDev</th>\n",
       "    </tr>\n",
       "    <tr>\n",
       "      <th>Folds</th>\n",
       "      <th>Repeats</th>\n",
       "      <th></th>\n",
       "      <th></th>\n",
       "      <th></th>\n",
       "      <th></th>\n",
       "    </tr>\n",
       "  </thead>\n",
       "  <tbody>\n",
       "    <tr>\n",
       "      <th>5</th>\n",
       "      <th>4</th>\n",
       "      <td>0.54027</td>\n",
       "      <td>0.00716</td>\n",
       "      <td>0.59160</td>\n",
       "      <td>0.00670</td>\n",
       "    </tr>\n",
       "    <tr>\n",
       "      <th>2</th>\n",
       "      <th>10</th>\n",
       "      <td>0.53638</td>\n",
       "      <td>0.00562</td>\n",
       "      <td>0.59045</td>\n",
       "      <td>0.00352</td>\n",
       "    </tr>\n",
       "    <tr>\n",
       "      <th rowspan=\"2\" valign=\"top\">10</th>\n",
       "      <th>2</th>\n",
       "      <td>0.53600</td>\n",
       "      <td>0.01254</td>\n",
       "      <td>0.59394</td>\n",
       "      <td>0.00861</td>\n",
       "    </tr>\n",
       "    <tr>\n",
       "      <th>10</th>\n",
       "      <td>0.53511</td>\n",
       "      <td>0.01093</td>\n",
       "      <td>0.59322</td>\n",
       "      <td>0.01078</td>\n",
       "    </tr>\n",
       "  </tbody>\n",
       "</table>\n",
       "</div>"
      ],
      "text/plain": [
       "               Dtree_Acc_mean  DTree_Acc-stdDev  RForest_Acc-mean  RForest_Acc-stdDev\n",
       "Folds Repeats                                                                        \n",
       "5     4               0.54027           0.00716           0.59160             0.00670\n",
       "2     10              0.53638           0.00562           0.59045             0.00352\n",
       "10    2               0.53600           0.01254           0.59394             0.00861\n",
       "      10              0.53511           0.01093           0.59322             0.01078"
      ]
     },
     "execution_count": 14,
     "metadata": {},
     "output_type": "execute_result"
    }
   ],
   "source": [
    "dTreeScores_arr = np.array(dTreeScores)\n",
    "rForestScores_arr = np.array(rForestScores)\n",
    "\n",
    "df_list = []\n",
    "for i, tup in enumerate(tests):\n",
    "    df_list.append([tup[0], tup[1], dTreeScores_arr[i].mean(), dTreeScores_arr[i].std(), rForestScores_arr[i].mean(), rForestScores_arr[i].std()])\n",
    "\n",
    "P = pd.DataFrame(df_list, columns=[\"Folds\", \"Repeats\", \"Dtree_Acc_mean\", \"DTree_Acc-stdDev\", \"RForest_Acc-mean\", \"RForest_Acc-stdDev\"]).set_index([\"Folds\", \"Repeats\"])\n",
    "P.round(5)"
   ]
  },
  {
   "cell_type": "code",
   "execution_count": 15,
   "metadata": {},
   "outputs": [
    {
     "data": {
      "image/png": "[encoded data removed]",
      "text/plain": [
       "<Figure size 648x504 with 1 Axes>"
      ]
     },
     "metadata": {
      "needs_background": "light"
     },
     "output_type": "display_data"
    }
   ],
   "source": [
    "feature_names_ser = pd.Series(X_train.columns).rename(\"Feature\")\n",
    "feature_imports_ser = pd.Series(rand_frst_classifier.feature_importances_).rename(\"Importances\")\n",
    "important_features = feature_names_ser.to_frame().join(feature_imports_ser).sort_values(by=\"Importances\", ascending=False).set_index(\"Feature\").iloc[:10]\n",
    "\n",
    "fig, ax = plt.subplots(1, figsize=(9, 7))\n",
    "\n",
    "sns.barplot(x=\"Importances\", y=important_features.index, ax=ax, data=important_features)\n",
    "\n",
    "fig.suptitle(\"Top 10 Feature Importances - Random Forrest Classifier\", fontsize=16)\n",
    "\n",
    "plt.show()"
   ]
  },
  {
   "cell_type": "markdown",
   "metadata": {},
   "source": [
    "# Model With Synthetic Data\n",
    "\n",
    "In this section, I perform modeling using a technique called synthetic minority over-sampling.  This technique actually creates artificial training for the minority class.  It using sampling techniques to create minority class data with similarm but not exactly the same feature values.  If you look, at the example below, after SMOTE was applied, I had a perfectly balanced data-set with many more data points than my previous example.  \n",
    "\n",
    "I decided to try this more as a learning exercise, as I am not completely comfortable with the statistical soundness of using this technique.  The results were interesting.  Accuracy was much higher than the undersampling case, but precision and recall were quite poor.  These seems like an interesting technqiue, but as configured here, I don't feel that it is useful."
   ]
  },
  {
   "cell_type": "code",
   "execution_count": 16,
   "metadata": {},
   "outputs": [
    {
     "name": "stdout",
     "output_type": "stream",
     "text": [
      "Pre-Resampled training class shape Counter({0: 65392, 1: 7951})\n",
      "Resampled training class shape Counter({1: 65392, 0: 65392})\n"
     ]
    }
   ],
   "source": [
    "df_test = df.sample(frac=0.2)\n",
    "X_test = df_test.drop(\"readmitted_less_30\", axis=1)\n",
    "y_test = df_test[\"readmitted_less_30\"]\n",
    "\n",
    "df_train = df.drop(df_test.index, axis=0)\n",
    "X_train = df_train.drop(\"readmitted_less_30\", axis=1)\n",
    "y_train = df_train[\"readmitted_less_30\"]\n",
    "print(\"Pre-Resampled training class shape %s\" % Counter(y_train))\n",
    "\n",
    "smt = SMOTE()\n",
    "X_train, y_train = smt.fit_sample(X_train, y_train)\n",
    "\n",
    "print(\"Resampled training class shape %s\" % Counter(y_train))"
   ]
  },
  {
   "cell_type": "code",
   "execution_count": 17,
   "metadata": {
    "scrolled": true
   },
   "outputs": [
    {
     "name": "stdout",
     "output_type": "stream",
     "text": [
      "Accuracy of non-cross validated decision tree classifier (testing set): 78.82%\n"
     ]
    }
   ],
   "source": [
    "dtree_classifier = DecisionTreeClassifier()\n",
    "dtree_classifier.fit(X_train, y_train)\n",
    "y_test_predict = dtree_classifier.predict(X_test)\n",
    "print(\"Accuracy of non-cross validated decision tree classifier (testing set): {:.2%}\".format(dtree_classifier.score(X_test, y_test)))"
   ]
  },
  {
   "cell_type": "code",
   "execution_count": 18,
   "metadata": {},
   "outputs": [
    {
     "data": {
      "image/png": "[encoded data removed]",
      "text/plain": [
       "<Figure size 432x288 with 2 Axes>"
      ]
     },
     "metadata": {
      "needs_background": "light"
     },
     "output_type": "display_data"
    },
    {
     "data": {
      "image/png": "[encoded data removed]",
      "text/plain": [
       "<Figure size 432x288 with 2 Axes>"
      ]
     },
     "metadata": {
      "needs_background": "light"
     },
     "output_type": "display_data"
    }
   ],
   "source": [
    "ax1 = plot_confusion_matrix(np.array(y_test), np.array(y_test_predict), classes=np.array([\"No_Readmit\", \"Readmit\"]), title=\"Confusion matrix, without normalization\")\n",
    "ax2 = plot_confusion_matrix(np.array(y_test), np.array(y_test_predict), classes=np.array([\"No_Readmit\", \"Readmit\"]), normalize=True, title=\"Confusion matrix, with normalization\")"
   ]
  },
  {
   "cell_type": "code",
   "execution_count": 19,
   "metadata": {
    "scrolled": true
   },
   "outputs": [
    {
     "data": {
      "text/html": [
       "<div>\n",
       "<style scoped>\n",
       "    .dataframe tbody tr th:only-of-type {\n",
       "        vertical-align: middle;\n",
       "    }\n",
       "\n",
       "    .dataframe tbody tr th {\n",
       "        vertical-align: top;\n",
       "    }\n",
       "\n",
       "    .dataframe thead th {\n",
       "        text-align: right;\n",
       "    }\n",
       "</style>\n",
       "<table border=\"1\" class=\"dataframe\">\n",
       "  <thead>\n",
       "    <tr style=\"text-align: right;\">\n",
       "      <th></th>\n",
       "      <th>precision</th>\n",
       "      <th>recall</th>\n",
       "      <th>f1-score</th>\n",
       "      <th>support</th>\n",
       "    </tr>\n",
       "  </thead>\n",
       "  <tbody>\n",
       "    <tr>\n",
       "      <th>No_Readmit</th>\n",
       "      <td>0.894260</td>\n",
       "      <td>0.864413</td>\n",
       "      <td>0.879083</td>\n",
       "      <td>16329.000000</td>\n",
       "    </tr>\n",
       "    <tr>\n",
       "      <th>Readmit</th>\n",
       "      <td>0.132445</td>\n",
       "      <td>0.168411</td>\n",
       "      <td>0.148278</td>\n",
       "      <td>2007.000000</td>\n",
       "    </tr>\n",
       "    <tr>\n",
       "      <th>accuracy</th>\n",
       "      <td>0.788231</td>\n",
       "      <td>0.788231</td>\n",
       "      <td>0.788231</td>\n",
       "      <td>0.788231</td>\n",
       "    </tr>\n",
       "    <tr>\n",
       "      <th>macro avg</th>\n",
       "      <td>0.513353</td>\n",
       "      <td>0.516412</td>\n",
       "      <td>0.513681</td>\n",
       "      <td>18336.000000</td>\n",
       "    </tr>\n",
       "    <tr>\n",
       "      <th>weighted avg</th>\n",
       "      <td>0.810874</td>\n",
       "      <td>0.788231</td>\n",
       "      <td>0.799092</td>\n",
       "      <td>18336.000000</td>\n",
       "    </tr>\n",
       "  </tbody>\n",
       "</table>\n",
       "</div>"
      ],
      "text/plain": [
       "              precision    recall  f1-score       support\n",
       "No_Readmit     0.894260  0.864413  0.879083  16329.000000\n",
       "Readmit        0.132445  0.168411  0.148278   2007.000000\n",
       "accuracy       0.788231  0.788231  0.788231      0.788231\n",
       "macro avg      0.513353  0.516412  0.513681  18336.000000\n",
       "weighted avg   0.810874  0.788231  0.799092  18336.000000"
      ]
     },
     "execution_count": 19,
     "metadata": {},
     "output_type": "execute_result"
    }
   ],
   "source": [
    "report_dict = classification_report(y_test, y_test_predict, target_names=np.array([\"No_Readmit\", \"Readmit\"]), output_dict=True)\n",
    "pd.DataFrame(report_dict).transpose()"
   ]
  },
  {
   "cell_type": "code",
   "execution_count": 20,
   "metadata": {},
   "outputs": [
    {
     "name": "stdout",
     "output_type": "stream",
     "text": [
      "Accuracy of non-cross validated random forrest (testing set): 88.59%\n"
     ]
    }
   ],
   "source": [
    "rand_frst_classifier = RandomForestClassifier()\n",
    "rand_frst_classifier.fit(X_train, y_train)\n",
    "y_test_predict = rand_frst_classifier.predict(X_test)\n",
    "print(\"Accuracy of non-cross validated random forrest (testing set): {:.2%}\".format(rand_frst_classifier.score(X_test, y_test)))"
   ]
  },
  {
   "cell_type": "code",
   "execution_count": 21,
   "metadata": {},
   "outputs": [
    {
     "data": {
      "image/png": "[encoded data removed]",
      "text/plain": [
       "<Figure size 432x288 with 2 Axes>"
      ]
     },
     "metadata": {
      "needs_background": "light"
     },
     "output_type": "display_data"
    },
    {
     "data": {
      "image/png": "[encoded data removed]",
      "text/plain": [
       "<Figure size 432x288 with 2 Axes>"
      ]
     },
     "metadata": {
      "needs_background": "light"
     },
     "output_type": "display_data"
    }
   ],
   "source": [
    "ax1 = plot_confusion_matrix(np.array(y_test), np.array(y_test_predict), classes=np.array([\"No_Readmit\", \"Readmit\"]), title=\"Confusion matrix, without normalization\")\n",
    "ax2 = plot_confusion_matrix(np.array(y_test), np.array(y_test_predict), classes=np.array([\"No_Readmit\", \"Readmit\"]), normalize=True, title=\"Confusion matrix, with normalization\")"
   ]
  },
  {
   "cell_type": "code",
   "execution_count": 22,
   "metadata": {},
   "outputs": [
    {
     "data": {
      "text/html": [
       "<div>\n",
       "<style scoped>\n",
       "    .dataframe tbody tr th:only-of-type {\n",
       "        vertical-align: middle;\n",
       "    }\n",
       "\n",
       "    .dataframe tbody tr th {\n",
       "        vertical-align: top;\n",
       "    }\n",
       "\n",
       "    .dataframe thead th {\n",
       "        text-align: right;\n",
       "    }\n",
       "</style>\n",
       "<table border=\"1\" class=\"dataframe\">\n",
       "  <thead>\n",
       "    <tr style=\"text-align: right;\">\n",
       "      <th></th>\n",
       "      <th>precision</th>\n",
       "      <th>recall</th>\n",
       "      <th>f1-score</th>\n",
       "      <th>support</th>\n",
       "    </tr>\n",
       "  </thead>\n",
       "  <tbody>\n",
       "    <tr>\n",
       "      <th>No_Readmit</th>\n",
       "      <td>0.892176</td>\n",
       "      <td>0.991671</td>\n",
       "      <td>0.939296</td>\n",
       "      <td>16329.000000</td>\n",
       "    </tr>\n",
       "    <tr>\n",
       "      <th>Readmit</th>\n",
       "      <td>0.268817</td>\n",
       "      <td>0.024913</td>\n",
       "      <td>0.045600</td>\n",
       "      <td>2007.000000</td>\n",
       "    </tr>\n",
       "    <tr>\n",
       "      <th>accuracy</th>\n",
       "      <td>0.885853</td>\n",
       "      <td>0.885853</td>\n",
       "      <td>0.885853</td>\n",
       "      <td>0.885853</td>\n",
       "    </tr>\n",
       "    <tr>\n",
       "      <th>macro avg</th>\n",
       "      <td>0.580497</td>\n",
       "      <td>0.508292</td>\n",
       "      <td>0.492448</td>\n",
       "      <td>18336.000000</td>\n",
       "    </tr>\n",
       "    <tr>\n",
       "      <th>weighted avg</th>\n",
       "      <td>0.823945</td>\n",
       "      <td>0.885853</td>\n",
       "      <td>0.841475</td>\n",
       "      <td>18336.000000</td>\n",
       "    </tr>\n",
       "  </tbody>\n",
       "</table>\n",
       "</div>"
      ],
      "text/plain": [
       "              precision    recall  f1-score       support\n",
       "No_Readmit     0.892176  0.991671  0.939296  16329.000000\n",
       "Readmit        0.268817  0.024913  0.045600   2007.000000\n",
       "accuracy       0.885853  0.885853  0.885853      0.885853\n",
       "macro avg      0.580497  0.508292  0.492448  18336.000000\n",
       "weighted avg   0.823945  0.885853  0.841475  18336.000000"
      ]
     },
     "execution_count": 22,
     "metadata": {},
     "output_type": "execute_result"
    }
   ],
   "source": [
    "report_dict = classification_report(y_test, y_test_predict, target_names=np.array([\"No_Readmit\", \"Readmit\"]), output_dict=True)\n",
    "pd.DataFrame(report_dict).transpose()"
   ]
  },
  {
   "cell_type": "code",
   "execution_count": 23,
   "metadata": {},
   "outputs": [
    {
     "data": {
      "image/png": "[encoded data removed]",
      "text/plain": [
       "<Figure size 648x504 with 1 Axes>"
      ]
     },
     "metadata": {
      "needs_background": "light"
     },
     "output_type": "display_data"
    }
   ],
   "source": [
    "feature_names_ser = pd.Series(X_train.columns).rename(\"Feature\")\n",
    "feature_imports_ser = pd.Series(rand_frst_classifier.feature_importances_).rename(\"Importances\")\n",
    "important_features = feature_names_ser.to_frame().join(feature_imports_ser).sort_values(by=\"Importances\", ascending=False).set_index(\"Feature\").iloc[:10]\n",
    "\n",
    "fig, ax = plt.subplots(1, figsize=(9, 7))\n",
    "\n",
    "sns.barplot(x=\"Importances\", y=important_features.index, ax=ax, data=important_features)\n",
    "\n",
    "fig.suptitle(\"Top 10 Feature Importances - Random Forrest Classifier\", fontsize=16)\n",
    "\n",
    "plt.show()"
   ]
  },
  {
   "cell_type": "markdown",
   "metadata": {},
   "source": [
    "# Dummy Classifier Baseline\n",
    "\n",
    "Finally, I wanted to try a completely naive dummy classifier and compare results.  I decided to use a stratified guessing classifier.  All it does is perform a weighted random guess biased toward the training set class distribution.  So, if 89% of the training class is no_readmit, then 89% of the predictions will be no_readmit.  It is interesting to see that it has the highest accuracy of all the classifiers, but the precision and recall for readmit were very poor."
   ]
  },
  {
   "cell_type": "code",
   "execution_count": 24,
   "metadata": {},
   "outputs": [
    {
     "data": {
      "text/plain": [
       "DummyClassifier(constant=None, random_state=None, strategy='stratified')"
      ]
     },
     "execution_count": 24,
     "metadata": {},
     "output_type": "execute_result"
    }
   ],
   "source": [
    "X = df.drop(\"readmitted_less_30\", axis=1)\n",
    "y = df[\"readmitted_less_30\"]\n",
    "\n",
    "X_train, X_test, y_train, y_test = train_test_split(X, y, test_size=0.20)\n",
    "\n",
    "dummy_clf = DummyClassifier(strategy=\"stratified\")\n",
    "dummy_clf.fit(X_train, y_train)"
   ]
  },
  {
   "cell_type": "code",
   "execution_count": 25,
   "metadata": {},
   "outputs": [
    {
     "data": {
      "text/plain": [
       "0.8068826352530541"
      ]
     },
     "execution_count": 25,
     "metadata": {},
     "output_type": "execute_result"
    }
   ],
   "source": [
    "dummy_clf.score(X_test, y_test)"
   ]
  },
  {
   "cell_type": "code",
   "execution_count": 26,
   "metadata": {},
   "outputs": [
    {
     "data": {
      "image/png": "[encoded data removed]",
      "text/plain": [
       "<Figure size 432x288 with 2 Axes>"
      ]
     },
     "metadata": {
      "needs_background": "light"
     },
     "output_type": "display_data"
    },
    {
     "data": {
      "image/png": "[encoded data removed]",
      "text/plain": [
       "<Figure size 432x288 with 2 Axes>"
      ]
     },
     "metadata": {
      "needs_background": "light"
     },
     "output_type": "display_data"
    }
   ],
   "source": [
    "y_test_predict = dummy_clf.predict(X_test)\n",
    "ax1 = plot_confusion_matrix(np.array(y_test), np.array(y_test_predict), classes=np.array([\"No_Readmit\", \"Readmit\"]), title=\"Confusion matrix, without normalization\")\n",
    "ax1 = plot_confusion_matrix(np.array(y_test), np.array(y_test_predict), classes=np.array([\"No_Readmit\", \"Readmit\"]), normalize=True, title=\"Confusion matrix, with normalization\")"
   ]
  },
  {
   "cell_type": "code",
   "execution_count": 27,
   "metadata": {},
   "outputs": [
    {
     "data": {
      "text/html": [
       "<div>\n",
       "<style scoped>\n",
       "    .dataframe tbody tr th:only-of-type {\n",
       "        vertical-align: middle;\n",
       "    }\n",
       "\n",
       "    .dataframe tbody tr th {\n",
       "        vertical-align: top;\n",
       "    }\n",
       "\n",
       "    .dataframe thead th {\n",
       "        text-align: right;\n",
       "    }\n",
       "</style>\n",
       "<table border=\"1\" class=\"dataframe\">\n",
       "  <thead>\n",
       "    <tr style=\"text-align: right;\">\n",
       "      <th></th>\n",
       "      <th>precision</th>\n",
       "      <th>recall</th>\n",
       "      <th>f1-score</th>\n",
       "      <th>support</th>\n",
       "    </tr>\n",
       "  </thead>\n",
       "  <tbody>\n",
       "    <tr>\n",
       "      <th>No_Readmit</th>\n",
       "      <td>0.889938</td>\n",
       "      <td>0.888413</td>\n",
       "      <td>0.889175</td>\n",
       "      <td>16337.000000</td>\n",
       "    </tr>\n",
       "    <tr>\n",
       "      <th>Readmit</th>\n",
       "      <td>0.100641</td>\n",
       "      <td>0.102051</td>\n",
       "      <td>0.101341</td>\n",
       "      <td>1999.000000</td>\n",
       "    </tr>\n",
       "    <tr>\n",
       "      <th>accuracy</th>\n",
       "      <td>0.802683</td>\n",
       "      <td>0.802683</td>\n",
       "      <td>0.802683</td>\n",
       "      <td>0.802683</td>\n",
       "    </tr>\n",
       "    <tr>\n",
       "      <th>macro avg</th>\n",
       "      <td>0.495290</td>\n",
       "      <td>0.495232</td>\n",
       "      <td>0.495258</td>\n",
       "      <td>18336.000000</td>\n",
       "    </tr>\n",
       "    <tr>\n",
       "      <th>weighted avg</th>\n",
       "      <td>0.803889</td>\n",
       "      <td>0.802683</td>\n",
       "      <td>0.803285</td>\n",
       "      <td>18336.000000</td>\n",
       "    </tr>\n",
       "  </tbody>\n",
       "</table>\n",
       "</div>"
      ],
      "text/plain": [
       "              precision    recall  f1-score       support\n",
       "No_Readmit     0.889938  0.888413  0.889175  16337.000000\n",
       "Readmit        0.100641  0.102051  0.101341   1999.000000\n",
       "accuracy       0.802683  0.802683  0.802683      0.802683\n",
       "macro avg      0.495290  0.495232  0.495258  18336.000000\n",
       "weighted avg   0.803889  0.802683  0.803285  18336.000000"
      ]
     },
     "execution_count": 27,
     "metadata": {},
     "output_type": "execute_result"
    }
   ],
   "source": [
    "report_dict = classification_report(y_test, y_test_predict, target_names=np.array([\"No_Readmit\", \"Readmit\"]), output_dict=True)\n",
    "pd.DataFrame(report_dict).transpose()"
   ]
  },
  {
   "cell_type": "code",
   "execution_count": null,
   "metadata": {},
   "outputs": [],
   "source": []
  },
  {
   "cell_type": "code",
   "execution_count": null,
   "metadata": {},
   "outputs": [],
   "source": []
  }
 ],
 "metadata": {
  "kernelspec": {
   "display_name": "Python 3",
   "language": "python",
   "name": "python3"
  },
  "language_info": {
   "codemirror_mode": {
    "name": "ipython",
    "version": 3
   },
   "file_extension": ".py",
   "mimetype": "text/x-python",
   "name": "python",
   "nbconvert_exporter": "python",
   "pygments_lexer": "ipython3",
   "version": "3.7.4"
  }
 },
 "nbformat": 4,
 "nbformat_minor": 4
}
